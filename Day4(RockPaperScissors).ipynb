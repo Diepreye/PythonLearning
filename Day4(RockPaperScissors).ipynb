{
 "cells": [
  {
   "cell_type": "code",
   "execution_count": 34,
   "metadata": {},
   "outputs": [
    {
     "name": "stdout",
     "output_type": "stream",
     "text": [
      "0\n",
      "3.7727895600780537\n",
      "Your love score is 16\n"
     ]
    }
   ],
   "source": [
    "#Rock, Paper, Scissors\n",
    "#Randomisation and Python Lists\n",
    "#modules for long codes. The code is split into modules, responsible for different bits of functionalities\n",
    "\n",
    "import random\n",
    "random_integer = random.randint(0,5)\n",
    "print(random_integer)\n",
    "\n",
    "random_float = random.random()\n",
    "random_float *=5\n",
    "print(random_float)\n",
    "\n",
    "love_score = random.randint(1,100)\n",
    "print(f\"Your love score is {love_score}\")"
   ]
  },
  {
   "cell_type": "code",
   "execution_count": 41,
   "metadata": {},
   "outputs": [
    {
     "name": "stdout",
     "output_type": "stream",
     "text": [
      "Heads\n"
     ]
    }
   ],
   "source": [
    "import random\n",
    "toss = random.randint(0,1)\n",
    "if toss == 1:\n",
    "  print(\"Heads\")\n",
    "else:\n",
    "  print(\"Tails\")\n"
   ]
  },
  {
   "cell_type": "code",
   "execution_count": 2,
   "metadata": {},
   "outputs": [
    {
     "name": "stdout",
     "output_type": "stream",
     "text": [
      "['Delaware', 'Pennsylvania']\n",
      "['X', 'Pennsylvania', ['Angelaland', 'gloryland']]\n"
     ]
    }
   ],
   "source": [
    "#Python lists - this is a data structure for organizing and storing data. variables store single pieces of data. \n",
    "#Lists are used to store grouped pieces of data. It uses a square bracket and can have any data type\n",
    "#Lists always start and end with square brackets and are separated by a comma\n",
    "states_of_america = [\"Delaware\",\"Pennsylvania\"]\n",
    "#-1 is the end of the list\n",
    "#states_of_america[1]= \"Pencilvania\"\n",
    "print(states_of_america)\n",
    "states_of_america.append([\"Angelaland\", \"gloryland\"])\n",
    "#states_of_america.extend([\"Angelaland\", \"gloryland\"])\n",
    "\n",
    "states_of_america[0] = \"X\"\n",
    "print(states_of_america)"
   ]
  },
  {
   "cell_type": "code",
   "execution_count": null,
   "metadata": {},
   "outputs": [],
   "source": [
    "# Split string method\n",
    "import random\n",
    "names_string = input(\"Give me everybody's names, separated by a comma. \")\n",
    "names = names_string.split(\", \")\n",
    "length = len(names) - 1\n",
    "random_number = random.randint(0,length)\n",
    "choice = names[random_number]\n",
    "print(f\"{choice} is going to buy the meal today\")"
   ]
  },
  {
   "cell_type": "code",
   "execution_count": 7,
   "metadata": {},
   "outputs": [
    {
     "name": "stdout",
     "output_type": "stream",
     "text": [
      "Give me everybody's names, separated by a comma. Dozie, Peter, Ejiro, Preye\n",
      "Peter is going to buy the meal today\n"
     ]
    }
   ],
   "source": [
    "#Alternatively, using random.choice()\n",
    "import random\n",
    "names_string = input(\"Give me everybody's names, separated by a comma. \")\n",
    "names = names_string.split(\", \")\n",
    "choice = random.choice(names)\n",
    "print(choice +  \" is going to buy the meal today\")"
   ]
  },
  {
   "cell_type": "code",
   "execution_count": 11,
   "metadata": {},
   "outputs": [
    {
     "name": "stdout",
     "output_type": "stream",
     "text": [
      "['Strawberries', 'Spinach', 'Kale', 'Nectarines', 'Apples', 'Grapes', 'Peaches', 'Cherries', 'Pears', 'Tomatoes', 'Celery', 'Potatoes']\n"
     ]
    }
   ],
   "source": [
    "#index errors and working with nested lists\n",
    "dirty_dozen = [\"Strawberries\", \"Spinach\", \"Kale\", \"Nectarines\", \"Apples\", \"Grapes\",\n",
    "               \"Peaches\", \"Cherries\", \"Pears\", \"Tomatoes\", \"Celery\", \"Potatoes\"]\n",
    "#Nested\n"
   ]
  },
  {
   "cell_type": "code",
   "execution_count": 18,
   "metadata": {},
   "outputs": [
    {
     "name": "stdout",
     "output_type": "stream",
     "text": [
      "['😀', '🥶', '😂']\n",
      "['🤡', '😎', '🤫']\n",
      "['🤠', '😴', '🌚']\n",
      "Where do you want to put the treasure? 33\n",
      "['😀', '🥶', '😂']\n",
      "['🤡', '😎', '🤫']\n",
      "['🤠', '😴', 'X']\n"
     ]
    }
   ],
   "source": [
    "row1 = [\"😀\",\"🥶\",\"😂\"]\n",
    "row2 = [\"🤡\",\"😎\",\"🤫\"]\n",
    "row3 = [\"🤠\",\"😴\",\"🌚\"]\n",
    "map = [row1, row2, row3]\n",
    "print(f\"{row1}\\n{row2}\\n{row3}\")\n",
    "position = input(\"Where do you want to put the treasure? \")\n",
    "row_index = int(position[1]) - 1\n",
    "column_index = int(position[0]) - 1\n",
    "map[row_index][column_index] = \"X\"\n",
    "print(f\"{row1}\\n{row2}\\n{row3}\")"
   ]
  },
  {
   "cell_type": "code",
   "execution_count": 19,
   "metadata": {},
   "outputs": [
    {
     "name": "stdout",
     "output_type": "stream",
     "text": [
      "What do you choose? Type 0 for Rock, 1 for Paper and 2 for Scissors2\n",
      "You choose Scissor: \n",
      "\n",
      "    _______\n",
      "---'   ____)____\n",
      "          ______)\n",
      "       __________)\n",
      "      (____)\n",
      "---.__(___)\n",
      "\n",
      "Computer choose Scissors: \n",
      "\n",
      "    _______\n",
      "---'   ____)____\n",
      "          ______)\n",
      "       __________)\n",
      "      (____)\n",
      "---.__(___)\n",
      "\n",
      "Draw\n"
     ]
    }
   ],
   "source": [
    "#Rock, Paper, Scissors\n",
    "import random\n",
    "rock = '''\n",
    "    _______\n",
    "---'   ____)\n",
    "      (_____)\n",
    "      (_____)\n",
    "      (____)\n",
    "---.__(___)\n",
    "'''\n",
    "\n",
    "paper = '''\n",
    "    _______\n",
    "---'   ____)____\n",
    "          ______)\n",
    "          _______)\n",
    "         _______)\n",
    "---.__________)\n",
    "'''\n",
    "\n",
    "scissors = '''\n",
    "    _______\n",
    "---'   ____)____\n",
    "          ______)\n",
    "       __________)\n",
    "      (____)\n",
    "---.__(___)\n",
    "'''\n",
    "user_choice = int(input('''What do you choose? Type 0 for Rock, 1 for Paper and 2 for Scissors'''))\n",
    "if user_choice == 0:\n",
    "  print(\"You choose rock:\")\n",
    "  print(rock)\n",
    "elif user_choice == 1:  \n",
    "  print(\"You choose Paper: \")\n",
    "  print(paper)\n",
    "elif user_choice == 2:\n",
    "  print(\"You choose Scissor: \")\n",
    "  print(scissors)\n",
    "else:\n",
    "  print(\"invalid Player input\") \n",
    "computer = random.randint(0,2)\n",
    "if user_choice > 2:\n",
    "  print(\"Player Choice: No player input\") \n",
    "elif computer == 0:\n",
    "  print(\"Computer choose rock:\")\n",
    "  print(rock)\n",
    "elif computer == 1:  \n",
    "  print(\"Computer choose Paper: \")\n",
    "  print(paper) \n",
    "else:\n",
    "  print(\"Computer choose Scissors: \")\n",
    "  print(scissors)\n",
    "\n",
    "if computer == user_choice:\n",
    "  print(\"Draw\")\n",
    "elif computer == 0 and user_choice == 1:\n",
    "  print(\"You win\")\n",
    "elif computer == 1 and user_choice == 2:\n",
    "  print(\"You win\")\n",
    "elif computer == 2 and user_choice == 0:\n",
    "  print(\"You win\")\n",
    "elif user_choice > 2:  \n",
    "  print(\"Game ended, player developed cold feet\")\n",
    "else:\n",
    "  print(\"You lose\")    "
   ]
  },
  {
   "cell_type": "code",
   "execution_count": 23,
   "metadata": {},
   "outputs": [
    {
     "name": "stdout",
     "output_type": "stream",
     "text": [
      "What do you choose? Type 0 for Rock, 1 for Paper and 2 for Scissors\n",
      "5\n",
      "You chose an invalid number, you lose!\n"
     ]
    }
   ],
   "source": [
    "import random\n",
    "rock = '''\n",
    "    _______\n",
    "---'   ____)\n",
    "      (_____)\n",
    "      (_____)\n",
    "      (____)\n",
    "---.__(___)\n",
    "'''\n",
    "\n",
    "paper = '''\n",
    "    _______\n",
    "---'   ____)____\n",
    "          ______)\n",
    "          _______)\n",
    "         _______)\n",
    "---.__________)\n",
    "'''\n",
    "\n",
    "scissors = '''\n",
    "    _______\n",
    "---'   ____)____\n",
    "          ______)\n",
    "       __________)\n",
    "      (____)\n",
    "---.__(___)\n",
    "'''\n",
    "user_choice = int(input('''What do you choose? Type 0 for Rock, 1 for Paper and 2 for Scissors\\n'''))\n",
    "if user_choice >=3 or user_choice < 0:\n",
    "  print(\"You chose an invalid number, you lose!\")  \n",
    "else:  \n",
    "  computer_choice = random.randint(0,2)\n",
    "  choice_list = [rock, paper, scissors]\n",
    "  print(f\"You chose: {choice_list[user_choice]}\")\n",
    "  print(f\"Computer chose: {choice_list[computer_choice]}\")\n",
    "  if user_choice == 0 and computer_choice == 2:\n",
    "    print (\"You win!\")\n",
    "  elif user_choice == 2 and computer_choice== 0:\n",
    "    print(\"You lose\")\n",
    "  elif computer_choice > user_choice:\n",
    "    print(\"You Lose!\")\n",
    "  elif computer_choice < user_choice:\n",
    "    print(\"You win\")\n",
    "  elif user_choice == computer_choice:\n",
    "    print(\"It's a Draw!\")    \n",
    "  else:\n",
    "    print(\"You lose!\")"
   ]
  },
  {
   "cell_type": "code",
   "execution_count": null,
   "metadata": {},
   "outputs": [],
   "source": []
  },
  {
   "cell_type": "code",
   "execution_count": null,
   "metadata": {},
   "outputs": [],
   "source": []
  }
 ],
 "metadata": {
  "kernelspec": {
   "display_name": "Python 3",
   "language": "python",
   "name": "python3"
  },
  "language_info": {
   "codemirror_mode": {
    "name": "ipython",
    "version": 3
   },
   "file_extension": ".py",
   "mimetype": "text/x-python",
   "name": "python",
   "nbconvert_exporter": "python",
   "pygments_lexer": "ipython3",
   "version": "3.8.5"
  }
 },
 "nbformat": 4,
 "nbformat_minor": 4
}

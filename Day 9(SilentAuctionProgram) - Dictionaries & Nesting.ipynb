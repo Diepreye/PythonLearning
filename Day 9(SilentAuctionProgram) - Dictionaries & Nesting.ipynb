{
 "cells": [
  {
   "cell_type": "code",
   "execution_count": 8,
   "metadata": {},
   "outputs": [
    {
     "name": "stdout",
     "output_type": "stream",
     "text": [
      "Diepreye\n",
      "Diepreye\n",
      "Diepreye\n",
      "Diepreye\n",
      "Diepreye\n"
     ]
    }
   ],
   "source": [
    "#Dictionaries\n",
    "#Nesting lists with dictionarieslists with lists or dictionaries with dictionaries\n",
    "#{Key:Value} e.g {\"Bug\": \"An error ina prgoram that prevents the program from running as expected.\"}. Items in a list can be separated with a comma\n",
    "i = 5\n",
    "name = \"Diepreye\"\n",
    "while not i == 0:\n",
    "    print(name)\n",
    "    i -= 1\n",
    "   "
   ]
  },
  {
   "cell_type": "code",
   "execution_count": 3,
   "metadata": {},
   "outputs": [
    {
     "name": "stdout",
     "output_type": "stream",
     "text": [
      "\n",
      "                         ___________\n",
      "                         \\         /\n",
      "                          )_______(\n",
      "                          |\"\"\"\"\"\"\"|_.-._,.---------.,_.-._\n",
      "                          |       | | |               | | ''-.\n",
      "                          |       |_| |_             _| |_..-'\n",
      "                          |_______| '-' `'---------'` '-'\n",
      "                          )\"\"\"\"\"\"\"(\n",
      "                         /_________\\\n",
      "                       .-------------.\n",
      "                      /_______________\\\n",
      "\n",
      "Please input your name:\n",
      "diepreye\n",
      "Please input a bid price: \n",
      "$50\n",
      "Are there other users who want to bid? Type yes or no\n",
      "yes\n",
      "Please input your name:\n",
      "james\n",
      "Please input a bid price: \n",
      "$79\n",
      "Are there other users who want to bid? Type yes or no\n",
      "no\n",
      "The winner of the bid is james and the bid amount is $79\n"
     ]
    }
   ],
   "source": [
    "logo = '''\n",
    "                         ___________\n",
    "                         \\         /\n",
    "                          )_______(\n",
    "                          |\"\"\"\"\"\"\"|_.-._,.---------.,_.-._\n",
    "                          |       | | |               | | ''-.\n",
    "                          |       |_| |_             _| |_..-'\n",
    "                          |_______| '-' `'---------'` '-'\n",
    "                          )\"\"\"\"\"\"\"(\n",
    "                         /_________\\\\\n",
    "                       .-------------.\n",
    "                      /_______________\\\\\n",
    "'''\n",
    "print(logo)\n",
    "new_entry = True\n",
    "price_list = []\n",
    "name_list = []\n",
    "while new_entry is True:\n",
    "  name = input(\"Please input your name:\\n\")\n",
    "  \n",
    "  name_list.append(name)\n",
    "  bid_price = input(\"Please input a bid price: \\n$\")\n",
    "  \n",
    "  price_list.append(bid_price)\n",
    "  new_bid = input(\"Are there other users who want to bid? Type yes or no\\n\")\n",
    "  if new_bid == \"no\":\n",
    "    new_entry = False\n",
    "   \n",
    "bid_dict = {}\n",
    "n = 0\n",
    "for i in name_list:\n",
    "  bid_dict[i] = int(price_list[n])\n",
    "  n += 1\n",
    "bid_amount = 0\n",
    "\n",
    "for i in price_list:\n",
    "  if bid_amount < int(i):\n",
    "    bid_amount = int(i)\n",
    "    winner_index = price_list.index(str(bid_amount))\n",
    "winner = name_list[winner_index]\n",
    " \n",
    "print(f\"The winner of the bid is {winner} and the bid amount is ${bid_amount}\")\n"
   ]
  },
  {
   "cell_type": "code",
   "execution_count": 1,
   "metadata": {},
   "outputs": [
    {
     "name": "stdout",
     "output_type": "stream",
     "text": [
      "The winner of the bid is james, with a bid of $300\n"
     ]
    }
   ],
   "source": [
    "from IPython.display import clear_output\n",
    "#shorter_code\n",
    "logo = '''\n",
    "                         ___________\n",
    "                         \\         /\n",
    "                          )_______(\n",
    "                          |\"\"\"\"\"\"\"|_.-._,.---------.,_.-._\n",
    "                          |       | | |               | | ''-.\n",
    "                          |       |_| |_             _| |_..-'\n",
    "                          |_______| '-' `'---------'` '-'\n",
    "                          )\"\"\"\"\"\"\"(\n",
    "                         /_________\\\\\n",
    "                       .-------------.\n",
    "                      /_______________\\\\\n",
    "'''\n",
    "bid_dict = {}\n",
    "def highest_bidder():\n",
    "  highest_bid = 0\n",
    "  for bidder in bid_dict:\n",
    "    if bid_dict[bidder] > highest_bid:\n",
    "      highest_bid = bid_dict[bidder]\n",
    "      winner = bidder\n",
    "  print(f\"The winner of the bid is {winner}, with a bid of ${highest_bid}\")\n",
    "\n",
    "continue_bid = True\n",
    "while continue_bid is True:\n",
    "  clear_output()\n",
    "  print(logo)\n",
    "  name = input(\"What is your name? \\n\")\n",
    "  bid_price = int(input(\"What is your bid? \\n$\"))\n",
    "  bid_dict[name] = bid_price\n",
    "  new_bid = input(\"Are there other users who want to bid? Type 'yes' or 'no'\\n\")\n",
    "  if new_bid == \"no\":\n",
    "    continue_bid = False\n",
    "    clear_output()\n",
    "highest_bidder()"
   ]
  },
  {
   "cell_type": "code",
   "execution_count": null,
   "metadata": {},
   "outputs": [],
   "source": []
  }
 ],
 "metadata": {
  "kernelspec": {
   "display_name": "Python 3 (ipykernel)",
   "language": "python",
   "name": "python3"
  },
  "language_info": {
   "codemirror_mode": {
    "name": "ipython",
    "version": 3
   },
   "file_extension": ".py",
   "mimetype": "text/x-python",
   "name": "python",
   "nbconvert_exporter": "python",
   "pygments_lexer": "ipython3",
   "version": "3.9.7"
  }
 },
 "nbformat": 4,
 "nbformat_minor": 4
}

{
 "cells": [
  {
   "cell_type": "code",
   "execution_count": 4,
   "metadata": {},
   "outputs": [
    {
     "name": "stdout",
     "output_type": "stream",
     "text": [
      "Welcome to the rollercoaster!\n",
      "What is your height in cm? 120\n",
      "You can ride the rollercoaster\n"
     ]
    }
   ],
   "source": [
    "#Day 3 - Treasure Island Game\n",
    "#Conditionals\n",
    "#if else statements: do either a or b. Test a condition\n",
    "#if condition:\n",
    "    #do this\n",
    "#else:\n",
    "    #do this\n",
    "print(\"Welcome to the rollercoaster!\")\n",
    "height = int(input(\"What is your height in cm? \"))\n",
    "if height >=20:\n",
    "    print(\"You can ride the rollercoaster\")\n",
    "else:\n",
    "    print(\"Sorry, you have to grow taller before you can ride\")     "
   ]
  },
  {
   "cell_type": "code",
   "execution_count": 9,
   "metadata": {},
   "outputs": [
    {
     "data": {
      "text/plain": [
       "1"
      ]
     },
     "execution_count": 9,
     "metadata": {},
     "output_type": "execute_result"
    }
   ],
   "source": [
    "7%2"
   ]
  },
  {
   "cell_type": "code",
   "execution_count": 12,
   "metadata": {},
   "outputs": [
    {
     "name": "stdout",
     "output_type": "stream",
     "text": [
      "Which number do you want to check? 94\n",
      "This number is an even number\n"
     ]
    }
   ],
   "source": [
    "# Even and odd numbers - takes an input and determines if the input is even or odd\n",
    "number = int(input(\"Which number do you want to check? \"))\n",
    "if number % 2 == 0:\n",
    "  print(\"This number is an even number\")\n",
    "else:\n",
    "  print(\"This number is an odd number\")"
   ]
  },
  {
   "cell_type": "code",
   "execution_count": null,
   "metadata": {},
   "outputs": [],
   "source": [
    "#Nested if statements and elif statements - for more than one condition\n"
   ]
  },
  {
   "cell_type": "code",
   "execution_count": 13,
   "metadata": {},
   "outputs": [
    {
     "name": "stdout",
     "output_type": "stream",
     "text": [
      "Welcome to the rollercoaster!\n",
      "What is your height in cm? 150\n",
      "You can ride the rollercoaster\n",
      "How old are you: 9\n",
      "Please pay $5\n"
     ]
    }
   ],
   "source": [
    "print(\"Welcome to the rollercoaster!\")\n",
    "height = int(input(\"What is your height in cm? \"))\n",
    "if height >=20:\n",
    "    print(\"You can ride the rollercoaster\")\n",
    "    age = int(input(\"How old are you: \"))\n",
    "    if age < 12:\n",
    "        print(\"Please pay $5\")\n",
    "    elif age <= 18:\n",
    "        print(\"please pay $7\")\n",
    "    else:\n",
    "        print(\"please pay $12\")\n",
    "else:\n",
    "    print(\"Sorry, you have to grow taller before you can ride\")    "
   ]
  },
  {
   "cell_type": "code",
   "execution_count": 4,
   "metadata": {},
   "outputs": [
    {
     "name": "stdout",
     "output_type": "stream",
     "text": [
      "enter your height in m: 1.73\n",
      "enter your weight in kg: 65\n",
      "Your BMI is 22kg/m^2,you have a normal weight.\n"
     ]
    }
   ],
   "source": [
    "#BMI\n",
    "height = input(\"enter your height in m: \")\n",
    "weight = input(\"enter your weight in kg: \")\n",
    "new_height = float(height)\n",
    "new_weight = int(weight)\n",
    "BMI = (new_weight/(new_height**2))\n",
    "roundedBMI = int(round(BMI,0))\n",
    "if roundedBMI < 18.5:\n",
    "    print(f\"Your BMI is {roundedBMI}kg/m^2, you are underweight.\")\n",
    "elif roundedBMI < 25: \n",
    "    print(f\"Your BMI is {roundedBMI}kg/m^2,you have a normal weight.\")\n",
    "elif roundedBMI < 30:\n",
    "    print(f\"Your BMI is {roundedBMI}kg/m^2, you are slightly overweight.\")\n",
    "elif roundedBMI < 35:\n",
    "    print(f\"Your BMI is {roundedBMI}kg/m^2, you are obese.\")\n",
    "else:\n",
    "    print(f\"Your BMI is {roundedBMI}kg/m^2, you are clinically obese.\")"
   ]
  },
  {
   "cell_type": "code",
   "execution_count": 5,
   "metadata": {},
   "outputs": [
    {
     "name": "stdout",
     "output_type": "stream",
     "text": [
      "Which year do you want to check? 1989\n",
      "This is not a leap year\n"
     ]
    }
   ],
   "source": [
    "year = int(input(\"Which year do you want to check? \"))\n",
    "if year % 400 == 0:\n",
    "  print (\"This is a leap year\")\n",
    "elif year % 100 == 0:\n",
    "  print(\"This is not a leap year\")\n",
    "elif year % 4 == 0:\n",
    "  print(\"This is a leap year\")\n",
    "else:\n",
    "  print(\"This is not a leap year\")"
   ]
  },
  {
   "cell_type": "code",
   "execution_count": 14,
   "metadata": {},
   "outputs": [
    {
     "name": "stdout",
     "output_type": "stream",
     "text": [
      "Which year do you want to check? 2100\n",
      "not a leap year\n"
     ]
    }
   ],
   "source": [
    "year = int(input(\"Which year do you want to check? \"))\n",
    "if year % 4 == 0:\n",
    "  if year % 100 == 0:\n",
    "    if year % 400 == 0:\n",
    "      print(\"Leap year\")\n",
    "    else:\n",
    "      print(\"not a leap year\")\n",
    "  else:\n",
    "    print(\"not a leap year\")      \n",
    "else:\n",
    "  print(\"Not a leap year\")"
   ]
  },
  {
   "cell_type": "code",
   "execution_count": 12,
   "metadata": {
    "scrolled": true
   },
   "outputs": [
    {
     "name": "stdout",
     "output_type": "stream",
     "text": [
      "What is your height in cm? 173\n",
      "You can ride the rollercoaster\n",
      "How old are you: 25\n",
      "Adult tickets are $12\n",
      "Do you want to take a photo? Y or N: y\n",
      " Your total bill is $15\n"
     ]
    }
   ],
   "source": [
    "# Multiple if Statements in Succession - All conditions are checked\n",
    "height = int(input(\"What is your height in cm? \"))\n",
    "bill = 0\n",
    "if height >=120:\n",
    "    print(\"You can ride the rollercoaster\")\n",
    "    age = int(input(\"How old are you: \"))\n",
    "    if age < 12:\n",
    "        bill = 5\n",
    "        print(f\"Child tickets are ${bill}\")\n",
    "    elif age <= 18:\n",
    "        bill = 7\n",
    "        print(f\"Youth tickets ${bill}\")\n",
    "    else:\n",
    "        bill = 12\n",
    "        print(f\"Adult tickets are ${bill}\")\n",
    "    wants_photo = input(\"Do you want to take a photo? Y or N: \")\n",
    "    if wants_photo == \"Y\" or \"y\":\n",
    "        bill += 3\n",
    "        print(f\" Your total bill is ${bill}\")\n",
    "    else:\n",
    "        print(f\" Your total bill is ${bill}\")\n",
    "else:\n",
    "    print(\"Sorry, you have to grow taller before you can ride\")   \n"
   ]
  },
  {
   "cell_type": "code",
   "execution_count": 17,
   "metadata": {},
   "outputs": [
    {
     "name": "stdout",
     "output_type": "stream",
     "text": [
      "Welcome to Python Pizza Deliveries!\n",
      "What size pizza do you want? S, M, or L: s\n",
      "We don't do that here\n"
     ]
    }
   ],
   "source": [
    "# Pizza Cost\n",
    "print(\"Welcome to Python Pizza Deliveries!\")\n",
    "size = input(\"What size pizza do you want? S, M, or L: \")\n",
    "add_pepperoni = input(\"Do you want pepperoni? Y or N: \")\n",
    "extra_cheese = input(\"Do you want extra cheese? Y or N: \")   \n",
    "\n",
    "bill = 0 \n",
    "if size == \"S\": \n",
    "  bill = 15\n",
    "  if add_pepperoni == \"Y\":\n",
    "    bill += 2\n",
    "  else:\n",
    "    bill = bill\n",
    "  if extra_cheese == \"Y\":\n",
    "    bill += 1\n",
    "  else:\n",
    "    bill = bill\n",
    "    \n",
    "elif size == \"M\":\n",
    "  bill = 20\n",
    "  if add_pepperoni == \"Y\":\n",
    "    bill += 3\n",
    "  else:\n",
    "    bill = bill\n",
    "  if extra_cheese == \"Y\":\n",
    "    bill += 1\n",
    "  else:\n",
    "    bill = bill      \n",
    "  \n",
    "elif size == \"L\":\n",
    "  bill = 25\n",
    "  if add_pepperoni == \"Y\":\n",
    "    bill += 3\n",
    "  else:\n",
    "    bill = bill\n",
    "  if extra_cheese == \"Y\":\n",
    "    bill += 1\n",
    "  else:\n",
    "    bill = bill\n",
    "  print(f\"Your total bill is ${bill}\") \n",
    "else:\n",
    "    print(\"We don't do that here\")"
   ]
  },
  {
   "cell_type": "code",
   "execution_count": null,
   "metadata": {},
   "outputs": [],
   "source": [
    "print(\"Welcome to Python Pizza Deliveries!\")\n",
    "size = input(\"What size pizza do you want? S, M, or L: \")\n",
    "add_pepperoni = input(\"Do you want pepperoni? Y or N: \")\n",
    "extra_cheese = input(\"Do you want extra cheese? Y or N: \")\n",
    "bill = 0 \n",
    "if size == \"S\":\n",
    "  bill += 15\n",
    "elif size == \"M\":\n",
    "  bill += 20\n",
    "else:\n",
    "  bill += 25\n",
    "if add_pepperoni == \"Y\":\n",
    "  if size == \"S\":\n",
    "    bill += 2\n",
    "  else:\n",
    "    bill += 3\n",
    "if extra_cheese == \"Y\": \n",
    "  bill += 1\n",
    "print(f\"Your final bill is ${bill}\")   "
   ]
  },
  {
   "cell_type": "code",
   "execution_count": 21,
   "metadata": {},
   "outputs": [
    {
     "data": {
      "text/plain": [
       "False"
      ]
     },
     "execution_count": 21,
     "metadata": {},
     "output_type": "execute_result"
    }
   ],
   "source": [
    "#Checking for multiple conditions\n",
    "#And, Or and Not\n",
    "a = 12\n",
    "a > 15\n",
    "a > 10 and a <13\n",
    "a > 10 and a > 15"
   ]
  },
  {
   "cell_type": "code",
   "execution_count": 24,
   "metadata": {},
   "outputs": [
    {
     "name": "stdout",
     "output_type": "stream",
     "text": [
      "What is your height in cm? 500\n",
      "You can ride the rollercoaster\n",
      "How old are you: 46\n",
      "You get a free ride\n",
      "Do you want to take a photo? Y or N: y\n",
      " Your total bill is $3\n"
     ]
    }
   ],
   "source": [
    "# Multiple if Statements in Succession - All conditions are checked\n",
    "height = int(input(\"What is your height in cm? \"))\n",
    "bill = 0\n",
    "if height >=120:\n",
    "    print(\"You can ride the rollercoaster\")\n",
    "    age = int(input(\"How old are you: \"))\n",
    "    if age < 12:\n",
    "        bill = 5\n",
    "        print(f\"Child tickets are ${bill}\")\n",
    "    elif age <= 18:\n",
    "        bill = 7\n",
    "        print(f\"Youth tickets ${bill}\")\n",
    "    elif age >= 45 and age <= 55:\n",
    "        print(\"You get a free ride\")\n",
    "    else:\n",
    "        bill = 12\n",
    "        print(f\"Adult tickets are ${bill}\")\n",
    "    wants_photo = input(\"Do you want to take a photo? Y or N: \")\n",
    "    if wants_photo == \"Y\" or \"y\":\n",
    "        bill += 3\n",
    "        print(f\" Your total bill is ${bill}\")\n",
    "    else:\n",
    "        print(f\" Your total bill is ${bill}\")\n",
    "else:\n",
    "    print(\"Sorry, you have to grow taller before you can ride\") "
   ]
  },
  {
   "cell_type": "code",
   "execution_count": 31,
   "metadata": {},
   "outputs": [
    {
     "name": "stdout",
     "output_type": "stream",
     "text": [
      "Welcome to the Love Calculator!\n",
      "What is your name? \n",
      "jack Bauer\n",
      "What is their name? \n",
      "Angela Yu\n",
      "Your score is 53.\n"
     ]
    }
   ],
   "source": [
    "#Love Calculator\n",
    "print(\"Welcome to the Love Calculator!\")\n",
    "name1 = input(\"What is your name? \\n\")\n",
    "name2 = input(\"What is their name? \\n\")\n",
    "new_name1 = (name1.lower())\n",
    "new_name2 = (name2.lower())\n",
    "name_combined = new_name1 + new_name2\n",
    "a = name_combined.count(\"t\")\n",
    "b = name_combined.count(\"r\")\n",
    "c = name_combined.count(\"u\")\n",
    "d = name_combined.count(\"e\")\n",
    "e = name_combined.count(\"l\")\n",
    "f = name_combined.count(\"o\")\n",
    "g = name_combined.count(\"v\")\n",
    "h = name_combined.count(\"e\")\n",
    "T_digit = a + b + c + d\n",
    "L_digit = e + f + g + h\n",
    "combined_digit = str(T_digit)+str(L_digit)\n",
    "love_score = int(combined_digit)\n",
    "if (love_score < 10) or (love_score > 90):\n",
    "  print(f\"Your score is {love_score}, you go together like coke and mentos.\")\n",
    "elif (love_score >= 40) and (love_score <= 50):\n",
    "  print(f\"Your score is {love_score}, you are alright together.\") \n",
    "else:\n",
    "  print(f\"Your score is {love_score}.\")   "
   ]
  },
  {
   "cell_type": "code",
   "execution_count": null,
   "metadata": {},
   "outputs": [
    {
     "name": "stdout",
     "output_type": "stream",
     "text": [
      " _                                     _     _                 _ \n",
      "| |                                   (_)   | |               | |\n",
      "| |_ _ __ ___  __ _ ___ _   _ _ __ ___ _ ___| | __ _ _ __   __| |\n",
      "| __| '__/ _ \\/ _` / __| | | | '__/ _ \\ / __| |/ _` | '_ \\ / _` |\n",
      "| |_| | |  __/ (_| \\__ \\ |_| | | |  __/ \\__ \\ | (_| | | | | (_| |\n",
      " \\__|_|  \\___|\\__,_|___/\\__,_|_|  \\___|_|___/_|\\__,_|_| |_|\\__,_|\n",
      "Welcome to Treasure Island!\n",
      "Your mission is to find the treasure\n"
     ]
    }
   ],
   "source": [
    "print(''' _                                     _     _                 _ \n",
    "| |                                   (_)   | |               | |\n",
    "| |_ _ __ ___  __ _ ___ _   _ _ __ ___ _ ___| | __ _ _ __   __| |\n",
    "| __| '__/ _ \\/ _` / __| | | | '__/ _ \\ / __| |/ _` | '_ \\ / _` |\n",
    "| |_| | |  __/ (_| \\__ \\ |_| | | |  __/ \\__ \\ | (_| | | | | (_| |\n",
    " \\__|_|  \\___|\\__,_|___/\\__,_|_|  \\___|_|___/_|\\__,_|_| |_|\\__,_|''')\n",
    "print(\"Welcome to Treasure Island!\")\n",
    "print(\"Your mission is to find the treasure\")\n",
    "direction = (input(\"You're at a crossroad, where would like to go? Left or Right? \").lower())\n",
    "if direction == \"left\" :\n",
    "    print(\"You're now in front of a river\")\n",
    "    to_do = (input(\"What do you want to do? Swim or Wait? \").lower())\n",
    "    if to_do == \"wait\" :\n",
    "        print(\"You got to the Island!\")\n",
    "        door = (input(\"Choose a color: Red, blue or yellow: \").lower())\n",
    "        if door == \"yellow\" :\n",
    "            print(\"Congrats, you found the treasure!\")\n",
    "            print('''*******************************************************************************\n",
    "          |                   |                  |                     |\n",
    " _________|________________.=\"\"_;=.______________|_____________________|_______\n",
    "|                   |  ,-\"_,=\"\"     `\"=.|                  |\n",
    "|___________________|__\"=._o`\"-._        `\"=.______________|___________________\n",
    "          |                `\"=._o`\"=._      _`\"=._                     |\n",
    " _________|_____________________:=._o \"=._.\"_.-=\"'\"=.__________________|_______\n",
    "|                   |    __.--\" , ; `\"=._o.\" ,-\"\"\"-._ \".   |\n",
    "|___________________|_._\"  ,. .` ` `` ,  `\"-._\"-._   \". '__|___________________\n",
    "          |           |o`\"=._` , \"` `; .\". ,  \"-._\"-._; ;              |\n",
    " _________|___________| ;`-.o`\"=._; .\" ` '`.\"\\` . \"-._ /_______________|_______\n",
    "|                   | |o;    `\"-.o`\"=._``  '` \" ,__.--o;   |\n",
    "|___________________|_| ;     (#) `-.o `\"=.`_.--\"_o.-; ;___|___________________\n",
    "____/______/______/___|o;._    \"      `\".o|o_.--\"    ;o;____/______/______/____\n",
    "/______/______/______/_\"=._o--._        ; | ;        ; ;/______/______/______/_\n",
    "____/______/______/______/__\"=._o--._   ;o|o;     _._;o;____/______/______/____\n",
    "/______/______/______/______/____\"=._o._; | ;_.--\"o.--\"_/______/______/______/_\n",
    "____/______/______/______/______/_____\"=.o|o_.--\"\"___/______/______/______/____\n",
    "/______/______/______/______/______/______/______/______/______/______/________\n",
    "*******************************************************************************\\n''')\n",
    "        else:\n",
    "            print(\"Game Over: try again next time!\")\n",
    "    else:\n",
    "        print(\"Game Over!: You drowned\")\n",
    "else:\n",
    "    print(\"Game over!: You fell into a hole\")\n",
    "    \n"
   ]
  },
  {
   "cell_type": "code",
   "execution_count": null,
   "metadata": {},
   "outputs": [],
   "source": []
  },
  {
   "cell_type": "code",
   "execution_count": null,
   "metadata": {},
   "outputs": [],
   "source": []
  },
  {
   "cell_type": "code",
   "execution_count": null,
   "metadata": {},
   "outputs": [],
   "source": []
  }
 ],
 "metadata": {
  "kernelspec": {
   "display_name": "Python 3",
   "language": "python",
   "name": "python3"
  },
  "language_info": {
   "codemirror_mode": {
    "name": "ipython",
    "version": 3
   },
   "file_extension": ".py",
   "mimetype": "text/x-python",
   "name": "python",
   "nbconvert_exporter": "python",
   "pygments_lexer": "ipython3",
   "version": "3.8.5"
  }
 },
 "nbformat": 4,
 "nbformat_minor": 4
}

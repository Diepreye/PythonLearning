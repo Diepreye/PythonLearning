{
 "cells": [
  {
   "cell_type": "code",
   "execution_count": null,
   "metadata": {},
   "outputs": [],
   "source": [
    "#Day2 - Tip Calculator"
   ]
  },
  {
   "cell_type": "code",
   "execution_count": 1,
   "metadata": {},
   "outputs": [
    {
     "name": "stdout",
     "output_type": "stream",
     "text": [
      "5\n"
     ]
    }
   ],
   "source": [
    "print(len(\"hello\"))"
   ]
  },
  {
   "cell_type": "code",
   "execution_count": 3,
   "metadata": {},
   "outputs": [
    {
     "name": "stdout",
     "output_type": "stream",
     "text": [
      "5\n"
     ]
    }
   ],
   "source": [
    "print(len(\"12345\"))"
   ]
  },
  {
   "cell_type": "code",
   "execution_count": 4,
   "metadata": {},
   "outputs": [
    {
     "name": "stdout",
     "output_type": "stream",
     "text": [
      "H\n"
     ]
    }
   ],
   "source": [
    "#Data Types\n",
    "\n",
    "#String\n",
    "\n",
    "print(\"Hello\"[0]) #subscripting"
   ]
  },
  {
   "cell_type": "code",
   "execution_count": 6,
   "metadata": {},
   "outputs": [
    {
     "name": "stdout",
     "output_type": "stream",
     "text": [
      "o\n",
      "o\n"
     ]
    }
   ],
   "source": [
    "print(\"Hello\"[-1])\n",
    "print(\"Hello\"[4])"
   ]
  },
  {
   "cell_type": "code",
   "execution_count": 7,
   "metadata": {},
   "outputs": [
    {
     "name": "stdout",
     "output_type": "stream",
     "text": [
      "123345\n"
     ]
    }
   ],
   "source": [
    "print(\"123\" + \"345\")"
   ]
  },
  {
   "cell_type": "code",
   "execution_count": 8,
   "metadata": {},
   "outputs": [
    {
     "name": "stdout",
     "output_type": "stream",
     "text": [
      "468\n"
     ]
    }
   ],
   "source": [
    "#Integer\n",
    "print(123+345)"
   ]
  },
  {
   "cell_type": "code",
   "execution_count": null,
   "metadata": {},
   "outputs": [],
   "source": [
    "#float - floating point number e.g 3.14159 "
   ]
  },
  {
   "cell_type": "code",
   "execution_count": null,
   "metadata": {},
   "outputs": [],
   "source": [
    "#Boolean only two possible values (True or False)"
   ]
  },
  {
   "cell_type": "code",
   "execution_count": 3,
   "metadata": {},
   "outputs": [
    {
     "name": "stdout",
     "output_type": "stream",
     "text": [
      "What is your name\n",
      "diepreye\n",
      "Your name has 8 character\n"
     ]
    }
   ],
   "source": [
    "#functions\n",
    "num_char = len(input(\"What is your name\\n\"))\n",
    "print(\"Your name has \" + str(num_char) + \" character\")"
   ]
  },
  {
   "cell_type": "code",
   "execution_count": 12,
   "metadata": {},
   "outputs": [
    {
     "name": "stdout",
     "output_type": "stream",
     "text": [
      "<class 'int'>\n"
     ]
    }
   ],
   "source": [
    "#Type-check function - when unsure of the data type\n",
    "print(type(num_char))\n"
   ]
  },
  {
   "cell_type": "code",
   "execution_count": 13,
   "metadata": {},
   "outputs": [
    {
     "name": "stdout",
     "output_type": "stream",
     "text": [
      "Your name has 8 characters.\n"
     ]
    }
   ],
   "source": [
    "#Typecasting/type conversion\n",
    "new_num_char = str(num_char)\n",
    "print(\"Your name has \" + new_num_char + \" characters.\")"
   ]
  },
  {
   "cell_type": "code",
   "execution_count": 14,
   "metadata": {},
   "outputs": [
    {
     "name": "stdout",
     "output_type": "stream",
     "text": [
      "170.5\n"
     ]
    }
   ],
   "source": [
    "print(70+float(\"100.5\"))"
   ]
  },
  {
   "cell_type": "code",
   "execution_count": 15,
   "metadata": {},
   "outputs": [
    {
     "name": "stdout",
     "output_type": "stream",
     "text": [
      "70100\n"
     ]
    }
   ],
   "source": [
    "print(str(70)+str(100))"
   ]
  },
  {
   "cell_type": "code",
   "execution_count": 20,
   "metadata": {},
   "outputs": [
    {
     "name": "stdout",
     "output_type": "stream",
     "text": [
      "Type a two digit number: 56\n",
      "<class 'str'>\n",
      "11\n"
     ]
    }
   ],
   "source": [
    "# Code to print the sum of individual digits for a two digit number\n",
    "two_digit_number = input(\"Type a two digit number: \")\n",
    "#Write your code below this line 👇\n",
    "print(type(two_digit_number))\n",
    "first_digit = int(two_digit_number[0])\n",
    "second_digit = int(two_digit_number[1])\n",
    "sum_digits = first_digit + second_digit\n",
    "print(sum_digits)\n"
   ]
  },
  {
   "cell_type": "code",
   "execution_count": 21,
   "metadata": {},
   "outputs": [
    {
     "name": "stdout",
     "output_type": "stream",
     "text": [
      "7.0\n"
     ]
    }
   ],
   "source": [
    "#Mathematical Operations in Python\n",
    "3 + 5\n",
    "7 - 4\n",
    "3 * 2\n",
    "6/3 #always a float\n",
    "2**3 #exponential\n",
    "print(3*3+3/3-3)"
   ]
  },
  {
   "cell_type": "code",
   "execution_count": 7,
   "metadata": {},
   "outputs": [
    {
     "name": "stdout",
     "output_type": "stream",
     "text": [
      "enter your height in m: 1.73\n",
      "enter your weight in kg: 65\n",
      "<class 'str'>\n",
      "<class 'str'>\n",
      "Your BMI is 21kg/m^2\n"
     ]
    }
   ],
   "source": [
    "# BMI Calculator\n",
    "height = input(\"enter your height in m: \")\n",
    "weight = input(\"enter your weight in kg: \")\n",
    "print(type(height))\n",
    "print(type(weight))\n",
    "new_height = float(height)\n",
    "new_weight = int(weight)\n",
    "BMI = int(new_weight/(new_height**2))\n",
    "print(f\"Your BMI is {BMI}kg/m^2\")"
   ]
  },
  {
   "cell_type": "code",
   "execution_count": 27,
   "metadata": {},
   "outputs": [
    {
     "name": "stdout",
     "output_type": "stream",
     "text": [
      "2.67\n",
      "<class 'int'>\n"
     ]
    }
   ],
   "source": [
    "print(round(8/3, 2))\n",
    "print(type(8//3)) #prints a division as an integer\n"
   ]
  },
  {
   "cell_type": "code",
   "execution_count": 3,
   "metadata": {},
   "outputs": [
    {
     "name": "stdout",
     "output_type": "stream",
     "text": [
      "1.0\n"
     ]
    }
   ],
   "source": [
    "result = 4/2\n",
    "result /= 2\n",
    "print(result)"
   ]
  },
  {
   "cell_type": "code",
   "execution_count": 5,
   "metadata": {},
   "outputs": [
    {
     "name": "stdout",
     "output_type": "stream",
     "text": [
      "your score is 0, your height is 1.8, you are winning is True\n"
     ]
    }
   ],
   "source": [
    "#f string - f goes in front of a strong\n",
    "score = 0\n",
    "height = 1.8\n",
    "isWinning = True\n",
    "print(f\"your score is {score}, your height is {height}, you are winning is {isWinning}\")\n"
   ]
  },
  {
   "cell_type": "code",
   "execution_count": 21,
   "metadata": {},
   "outputs": [
    {
     "name": "stdout",
     "output_type": "stream",
     "text": [
      "what is your age: 67\n",
      "You have 8395 days, 1196 weeks and 276 months left\n"
     ]
    }
   ],
   "source": [
    "#Life in weeks calculator\n",
    "age = input(\"what is your age: \")\n",
    "new_age = int(age)\n",
    "number_of_years_left = 90 - new_age\n",
    "number_of_days = number_of_years_left * 365\n",
    "number_of_weeks = number_of_years_left * 52\n",
    "number_of_months = number_of_years_left * 12\n",
    "message = f\"You have {number_of_days} days, {number_of_weeks} weeks and {number_of_months} months left\"\n",
    "print(message)"
   ]
  },
  {
   "cell_type": "code",
   "execution_count": null,
   "metadata": {},
   "outputs": [],
   "source": [
    "#Tip Calculator"
   ]
  },
  {
   "cell_type": "code",
   "execution_count": 8,
   "metadata": {},
   "outputs": [
    {
     "name": "stdout",
     "output_type": "stream",
     "text": [
      "Welcome to the tip calculator!\n",
      "What was the total bill? $150\n",
      "What percentage tip will you like to give? 10, 12, or 15? 12\n",
      "How many people to split the bill? 5\n",
      "Each person should pay: $33.6\n",
      "Each person should pay: $33.60\n"
     ]
    }
   ],
   "source": [
    "print(\"Welcome to the tip calculator!\")\n",
    "bill = input(\"What was the total bill? $\")\n",
    "percentage = input(\"What percentage tip will you like to give? 10, 12, or 15? \")\n",
    "number_of_persons = input(\"How many people to split the bill? \")\n",
    "fl_bill = float(bill)\n",
    "in_percentage = int(percentage)\n",
    "in_persons = int (number_of_persons)\n",
    "tip = (in_percentage/100)*fl_bill\n",
    "bill_with_tip = fl_bill + tip\n",
    "Each_person = bill_with_tip/in_persons\n",
    "Each_person_rounded = round(Each_person,2)\n",
    "Each_person_formated = \"{:.2f}\".format(Each_person)\n",
    "message = f\"Each person should pay: ${Each_person_rounded}\"\n",
    "print(message)\n",
    "print(f\"Each person should pay: ${Each_person_formated}\")"
   ]
  },
  {
   "cell_type": "code",
   "execution_count": null,
   "metadata": {},
   "outputs": [],
   "source": []
  },
  {
   "cell_type": "code",
   "execution_count": null,
   "metadata": {},
   "outputs": [],
   "source": []
  }
 ],
 "metadata": {
  "kernelspec": {
   "display_name": "Python 3",
   "language": "python",
   "name": "python3"
  },
  "language_info": {
   "codemirror_mode": {
    "name": "ipython",
    "version": 3
   },
   "file_extension": ".py",
   "mimetype": "text/x-python",
   "name": "python",
   "nbconvert_exporter": "python",
   "pygments_lexer": "ipython3",
   "version": "3.8.5"
  }
 },
 "nbformat": 4,
 "nbformat_minor": 4
}

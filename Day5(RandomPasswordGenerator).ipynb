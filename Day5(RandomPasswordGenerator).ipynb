{
 "cells": [
  {
   "cell_type": "code",
   "execution_count": 12,
   "metadata": {},
   "outputs": [
    {
     "name": "stdout",
     "output_type": "stream",
     "text": [
      "diepreye\n",
      "diepreye\n",
      "diepreye\n",
      "diepreye\n",
      "diepreye\n",
      "diepreye\n",
      "diepreye\n",
      "diepreye\n"
     ]
    }
   ],
   "source": [
    "#Loops help to execute the same line of code multiple times\n",
    "name = \"diepreye\"for i in name:\n",
    "    print(name)"
   ]
  },
  {
   "cell_type": "code",
   "execution_count": 7,
   "metadata": {},
   "outputs": [
    {
     "name": "stdout",
     "output_type": "stream",
     "text": [
      "Input a list of student heights 5\n",
      "[5]\n",
      "5\n",
      "1\n",
      "5\n"
     ]
    }
   ],
   "source": [
    "student_heights = input(\"Input a list of student heights \").split()\n",
    "for n in range(0, len(student_heights)):\n",
    "  student_heights[n] = int(student_heights[n])\n",
    "print(student_heights)  \n",
    "total_height = 0\n",
    "for height in student_heights:\n",
    "  total_height += height\n",
    "print(total_height)\n",
    "number_of_students = 0\n",
    "for students in student_heights:\n",
    "  number_of_students +=1\n",
    "print(number_of_students)\n",
    "average_height = round((total_height/number_of_students))\n",
    "print(average_height)\n",
    "\n",
    "\n",
    "\n",
    "\n",
    "\n"
   ]
  },
  {
   "cell_type": "code",
   "execution_count": 6,
   "metadata": {},
   "outputs": [
    {
     "name": "stdout",
     "output_type": "stream",
     "text": [
      "Input a list of student scores 54 7 -5 -3 80 15 17 -9 12\n",
      "[54, 7, -5, -3, 80, 15, 17, -9, 12]\n",
      "The highest score is 80\n",
      "The lowest score is -9\n"
     ]
    }
   ],
   "source": [
    "student_scores = input(\"Input a list of student scores \").split()\n",
    "for n in range(0, len(student_scores)):\n",
    "  student_scores[n] = int(student_scores[n])\n",
    "print(student_scores)\n",
    "highest_score = 0\n",
    "for score in student_scores:\n",
    "  if score  > highest_score:\n",
    "    highest_score = score\n",
    "print(f\"The highest score is {highest_score}\")\n",
    "lowest_score = 0\n",
    "for i in student_scores:\n",
    "    if i < lowest_score:\n",
    "        lowest_score = i\n",
    "print(f\"The lowest score is {lowest_score}\")"
   ]
  },
  {
   "cell_type": "code",
   "execution_count": 8,
   "metadata": {},
   "outputs": [
    {
     "name": "stdout",
     "output_type": "stream",
     "text": [
      "Please input the numbers you want to add: 40 50 90 70 100\n",
      "You have selected the following numbers: [40, 50, 90, 70, 100]\n",
      "350\n",
      "The sum of the numbers is: 350\n",
      "The count of the numbers is: 5\n",
      "The average of the numbers is: 70\n",
      "The maximum number is 100\n"
     ]
    }
   ],
   "source": [
    "numbers = input(\"Please input the numbers you want to add: \")\n",
    "number_list = numbers.split()\n",
    "for n in range(0,len(number_list)):\n",
    "    number_list[n] = int(number_list[n])\n",
    "print(f\"You have selected the following numbers: {number_list}\")\n",
    "total = 0\n",
    "for number in number_list:\n",
    "    total = total + number\n",
    "print(total)\n",
    "print(f\"The sum of the numbers is: {total}\")\n",
    "count = 0\n",
    "for n in number_list:\n",
    "    count = count + 1\n",
    "print(f\"The count of the numbers is: {count}\")    \n",
    "Average = round(total/count)\n",
    "print(f\"The average of the numbers is: {Average}\")\n",
    "highest_number = 0\n",
    "for highest in number_list:\n",
    "    if highest > highest_number:\n",
    "        highest_number = highest\n",
    "print(f\"The maximum number is {highest_number}\")        \n",
    "      "
   ]
  },
  {
   "cell_type": "code",
   "execution_count": 18,
   "metadata": {},
   "outputs": [
    {
     "name": "stdout",
     "output_type": "stream",
     "text": [
      "2550\n"
     ]
    }
   ],
   "source": [
    "list_no = range(0,101,2)\n",
    "total = 0\n",
    "for number in list_no:\n",
    "    total = total + number\n",
    "print(total)"
   ]
  },
  {
   "cell_type": "code",
   "execution_count": 20,
   "metadata": {},
   "outputs": [
    {
     "name": "stdout",
     "output_type": "stream",
     "text": [
      "2550\n"
     ]
    }
   ],
   "source": [
    "list_no = range(1,101)\n",
    "sum = 0\n",
    "for i in list_no:\n",
    "  if i%2 == 0:\n",
    "    sum = sum + i\n",
    "print(sum)    \n"
   ]
  },
  {
   "cell_type": "code",
   "execution_count": 24,
   "metadata": {},
   "outputs": [
    {
     "name": "stdout",
     "output_type": "stream",
     "text": [
      "1\n",
      "2\n",
      "Fizz\n",
      "4\n",
      "Buzz\n",
      "Fizz\n",
      "7\n",
      "8\n",
      "Fizz\n",
      "Buzz\n",
      "11\n",
      "Fizz\n",
      "13\n",
      "14\n",
      "FizzBuzz\n",
      "16\n",
      "17\n",
      "Fizz\n",
      "19\n",
      "Buzz\n",
      "Fizz\n",
      "22\n",
      "23\n",
      "Fizz\n",
      "Buzz\n",
      "26\n",
      "Fizz\n",
      "28\n",
      "29\n",
      "FizzBuzz\n",
      "31\n",
      "32\n",
      "Fizz\n",
      "34\n",
      "Buzz\n",
      "Fizz\n",
      "37\n",
      "38\n",
      "Fizz\n",
      "Buzz\n",
      "41\n",
      "Fizz\n",
      "43\n",
      "44\n",
      "FizzBuzz\n",
      "46\n",
      "47\n",
      "Fizz\n",
      "49\n",
      "Buzz\n",
      "Fizz\n",
      "52\n",
      "53\n",
      "Fizz\n",
      "Buzz\n",
      "56\n",
      "Fizz\n",
      "58\n",
      "59\n",
      "FizzBuzz\n",
      "61\n",
      "62\n",
      "Fizz\n",
      "64\n",
      "Buzz\n",
      "Fizz\n",
      "67\n",
      "68\n",
      "Fizz\n",
      "Buzz\n",
      "71\n",
      "Fizz\n",
      "73\n",
      "74\n",
      "FizzBuzz\n",
      "76\n",
      "77\n",
      "Fizz\n",
      "79\n",
      "Buzz\n",
      "Fizz\n",
      "82\n",
      "83\n",
      "Fizz\n",
      "Buzz\n",
      "86\n",
      "Fizz\n",
      "88\n",
      "89\n",
      "FizzBuzz\n",
      "91\n",
      "92\n",
      "Fizz\n",
      "94\n",
      "Buzz\n",
      "Fizz\n",
      "97\n",
      "98\n",
      "Fizz\n",
      "Buzz\n"
     ]
    }
   ],
   "source": [
    "for n in range(1,101):\n",
    "    if n % 3 == 0 and n % 5 == 0:\n",
    "        print(\"FizzBuzz\")\n",
    "    elif n % 3 == 0:\n",
    "        print(\"Fizz\")\n",
    "    elif n % 5 == 0:\n",
    "        print(\"Buzz\")\n",
    "    else:\n",
    "        print(n)\n",
    "        "
   ]
  },
  {
   "cell_type": "code",
   "execution_count": 2,
   "metadata": {},
   "outputs": [
    {
     "data": {
      "text/plain": [
       "8"
      ]
     },
     "execution_count": 2,
     "metadata": {},
     "output_type": "execute_result"
    }
   ],
   "source": [
    "int  (40/5)"
   ]
  },
  {
   "cell_type": "code",
   "execution_count": 27,
   "metadata": {},
   "outputs": [
    {
     "name": "stdout",
     "output_type": "stream",
     "text": [
      "Welcome to the PyPassword Generator!\n",
      "How many letters would you like in your password?\n",
      "5\n",
      "How many symbols would you like?\n",
      "4\n",
      "How many numbers would you like?\n",
      "3\n",
      "Your easy_password is: bLkrZ+$&*800\n",
      "Your hard password is: kbrZL*8&0+$0\n"
     ]
    }
   ],
   "source": [
    "#Random Password Generator\n",
    "import random\n",
    "letters = ['a', 'b', 'c', 'd', 'e', 'f', 'g', 'h', 'i', 'j', 'k', 'l', 'm', 'n', 'o', 'p', 'q', 'r', 's', 't', 'u', 'v', 'w', 'x', 'y', 'z', 'A', 'B', 'C', 'D', 'E', 'F', 'G', 'H', 'I', 'J', 'K', 'L', 'M', 'N', 'O', 'P', 'Q', 'R', 'S', 'T', 'U', 'V', 'W', 'X', 'Y', 'Z']\n",
    "numbers = ['0', '1', '2', '3', '4', '5', '6', '7', '8', '9']\n",
    "symbols = ['!', '#', '$', '%', '&', '(', ')', '*', '+']\n",
    "\n",
    "print(\"Welcome to the PyPassword Generator!\")\n",
    "nr_letters= int(input(\"How many letters would you like in your password?\\n\")) \n",
    "nr_symbols = int(input(f\"How many symbols would you like?\\n\"))\n",
    "nr_numbers = int(input(f\"How many numbers would you like?\\n\"))\n",
    "\n",
    "password_list = []\n",
    "for n in range(nr_letters):\n",
    "     password_list.append(random.choice(letters)) \n",
    "for n in range(nr_symbols):\n",
    "      password_list.append(random.choice(symbols))\n",
    "for n in range(nr_numbers):\n",
    "      password_list.append(random.choice(numbers))  \n",
    "\n",
    "easy_password = ''\n",
    "for i in password_list:\n",
    "    easy_password += i\n",
    "print(f\"Your easy_password is: {easy_password}\")\n",
    "\n",
    "hard_password_list = random.sample(easy_password,len(easy_password))\n",
    "hard_password = ''\n",
    "for i in hard_password_list:\n",
    "    hard_password += i\n",
    "\n",
    "print(f\"Your hard password is: {hard_password}\")  "
   ]
  },
  {
   "cell_type": "code",
   "execution_count": 25,
   "metadata": {},
   "outputs": [
    {
     "name": "stdout",
     "output_type": "stream",
     "text": [
      "Welcome to the PyPassword Generator!\n",
      "How many letters would you like in your password?\n",
      "4\n",
      "How many symbols would you like?\n",
      "3\n",
      "How many numbers would you like?\n",
      "3\n",
      "Your password is: &9Q2zd#0*z\n"
     ]
    }
   ],
   "source": [
    "#Teachers solution\n",
    "#Random Password Generator\n",
    "import random\n",
    "letters = ['a', 'b', 'c', 'd', 'e', 'f', 'g', 'h', 'i', 'j', 'k', 'l', 'm', 'n', 'o', 'p', 'q', 'r', 's', 't', 'u', 'v', 'w', 'x', 'y', 'z', 'A', 'B', 'C', 'D', 'E', 'F', 'G', 'H', 'I', 'J', 'K', 'L', 'M', 'N', 'O', 'P', 'Q', 'R', 'S', 'T', 'U', 'V', 'W', 'X', 'Y', 'Z']\n",
    "numbers = ['0', '1', '2', '3', '4', '5', '6', '7', '8', '9']\n",
    "symbols = ['!', '#', '$', '%', '&', '(', ')', '*', '+']\n",
    "\n",
    "print(\"Welcome to the PyPassword Generator!\")\n",
    "nr_letters= int(input(\"How many letters would you like in your password?\\n\")) \n",
    "nr_symbols = int(input(f\"How many symbols would you like?\\n\"))\n",
    "nr_numbers = int(input(f\"How many numbers would you like?\\n\"))\n",
    "\n",
    "password_list = []\n",
    "for letter in range(1,nr_letters + 1):\n",
    "    password_list += random.choice(letters)\n",
    "    \n",
    "for symbol in range(1,nr_numbers + 1):   \n",
    "    password_list += random.choice(symbols)\n",
    "    \n",
    "for number in range(1,nr_numbers + 1):   \n",
    "    password_list += random.choice(numbers) \n",
    "random.shuffle(password_list)\n",
    "\n",
    "password = ''\n",
    "for i in password_list:\n",
    "    password += i\n",
    "print(f\"Your password is: {password}\")    \n"
   ]
  },
  {
   "cell_type": "code",
   "execution_count": 4,
   "metadata": {},
   "outputs": [
    {
     "name": "stdout",
     "output_type": "stream",
     "text": [
      "range(0, 5)\n",
      "0\n",
      "1\n",
      "2\n",
      "3\n",
      "4\n"
     ]
    }
   ],
   "source": [
    "range(5)\n",
    "print(range(5))\n",
    "for i in range(5):\n",
    "    print(i)"
   ]
  },
  {
   "cell_type": "code",
   "execution_count": null,
   "metadata": {},
   "outputs": [],
   "source": []
  }
 ],
 "metadata": {
  "kernelspec": {
   "display_name": "Python 3",
   "language": "python",
   "name": "python3"
  },
  "language_info": {
   "codemirror_mode": {
    "name": "ipython",
    "version": 3
   },
   "file_extension": ".py",
   "mimetype": "text/x-python",
   "name": "python",
   "nbconvert_exporter": "python",
   "pygments_lexer": "ipython3",
   "version": "3.8.5"
  }
 },
 "nbformat": 4,
 "nbformat_minor": 4
}
